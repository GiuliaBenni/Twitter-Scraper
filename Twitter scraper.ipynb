{
 "cells": [
  {
   "cell_type": "markdown",
   "id": "050231b0",
   "metadata": {},
   "source": [
    "insert here acedemic token and query info"
   ]
  },
  {
   "cell_type": "code",
   "execution_count": null,
   "id": "33dbaf15",
   "metadata": {},
   "outputs": [],
   "source": [
    "Token = \"***************************************************************************\" #insert here acedemic token"
   ]
  },
  {
   "cell_type": "code",
   "execution_count": null,
   "id": "e4f51c7b",
   "metadata": {},
   "outputs": [],
   "source": [
    "[lat, lon, radius, start_time, end_time]=['12.2558141', '41.9097306', '10', '2020-01-01T00:00:00.001', '2021-01-01T00:00:00.001']"
   ]
  },
  {
   "cell_type": "markdown",
   "id": "7186cea9",
   "metadata": {},
   "source": [
    "import modules"
   ]
  },
  {
   "cell_type": "code",
   "execution_count": null,
   "id": "91b045da",
   "metadata": {},
   "outputs": [],
   "source": [
    "import requests\n",
    "import pandas as pd\n",
    "import time"
   ]
  },
  {
   "cell_type": "markdown",
   "id": "fbdafcf3",
   "metadata": {},
   "source": [
    "define functions"
   ]
  },
  {
   "cell_type": "code",
   "execution_count": null,
   "id": "ff93d8d6",
   "metadata": {},
   "outputs": [],
   "source": [
    "def getTwitterPost(lat, lon, radius, start_time, end_time):\n",
    "    query='point_radius:[' + lon + ' ' + lat + ' ' + radius + 'km]'\n",
    "    baseUrl = \"https://api.twitter.com/2/tweets/search/all?max_results=500&tweet.fields=geo&query=has:geo \"+query+\"&start_time=\"+start_time+\"&end_time=\"+end_time\n",
    "    headers = {\"Authorization\": \"Bearer \"+Token}\n",
    "    tweets=[]\n",
    "    \n",
    "    # we do first call to get first next_token\n",
    "    resp = requests.get(\n",
    "        baseUrl, headers=headers).json()\n",
    "    data = []\n",
    "    if('data' in resp):\n",
    "        data = resp['data']\n",
    "        tweets = _mergeTweets(tweets, data)\n",
    "    # we iterate until no next_token (end of pagination)\n",
    "    if 'meta' in resp and 'next_token' in resp['meta']:\n",
    "        next_token = resp['meta']['next_token']\n",
    "        while True:\n",
    "            time.sleep(3) #api rate limit 300 per 15 min\n",
    "            resp = requests.get(baseUrl+\"&next_token=\"+next_token, headers=headers).json()\n",
    "            if('data' in resp):\n",
    "                data = resp['data']\n",
    "                tweets = _mergeTweets(tweets, data)\n",
    "                if('meta' in resp and 'next_token' in resp['meta']):\n",
    "                    next_token = resp['meta']['next_token']\n",
    "                else:\n",
    "                    break\n",
    "    df = pd.Dataframe(tweets)\n",
    "    # split data in two dataframe: one with lat e long and one without\n",
    "    dfNOLatLon = df[df['longitude']=='']\n",
    "    dfLatLon = df[df['longitude']!='']\n",
    "    # create a distinct of place_ids to find use 1.1 api to get lat and long\n",
    "    placesToFind=list(set(dfNOLatLon['place_id'].to_list()))\n",
    "    dfPlace = findLatLon(places, headers)\n",
    "    # drop empty columns and join with dataframe without lat and log with dataframe with informations\n",
    "    dfNOLatLon=dfNOLatLon.drop(columns=['longitude', 'latitude'], inplace=True)\n",
    "    dfNOLatLon=dfNOLatLon.merge(dfPlace, on='place_id', how='left')\n",
    "    # concat and export to csv file\n",
    "    dfFinal=pd.concat([dfLatLon, dfNOLatLon])\n",
    "    dfFinal.to_csv('tweets.csv')\n",
    "\n",
    "# extract data from response and concat with stored tweets\n",
    "def _mergeTweets(tweets, data):\n",
    "    tweetsNoCorD = []\n",
    "    for el in data:\n",
    "        tweet = {}\n",
    "        #sometimes has:geo return post with only place_id we assigned empty string to filter in second step\n",
    "        if('geo' in el and 'coordinates' in el['geo'] and el['geo']['coordinates']['type'] == 'Point' and 'place_id' in el['geo']):\n",
    "            tweet['longitude'] = str(\n",
    "                el['geo']['coordinates']['coordinates'][0])\n",
    "            tweet['latitude'] = str(el['geo']['coordinates']['coordinates'][1])\n",
    "            tweet['place_id'] = el['geo']['place_id']\n",
    "        elif('geo' in el and 'place_id' in el['geo']):\n",
    "            tweet['place_id'] = el['geo']['place_id']\n",
    "            tweet['longitude'] = ''\n",
    "            tweet['latitude'] = ''\n",
    "            tweets.append(tweet)\n",
    "    return tweets\n",
    "\n",
    "### create dataframe with place_id, latitude and longitude using twitter 1.1 api from list of place_id\n",
    "def findLatLon(places, headers):\n",
    "    placeList=[]\n",
    "    baseUrl = \"https://api.twitter.com/1.1/geo/id/\"\n",
    "    for i in range(0, len(places), 70):\n",
    "        placesInfo = [requests.get(baseUrl+id+\".json\", headers=headers).json() for id in places[i:i+70]]\n",
    "        for place in placesInfo:\n",
    "            if('geometry' in place and 'type' in place['geometry'] and place['geometry']['type'] == \"Point\"):\n",
    "                placeList.append({'place_id': place['id'], 'longitude': place['geometry']['coordinates'][0], 'latitude': place['geometry']['coordinates'][1]})\n",
    "            else:\n",
    "                #sometimes it return a polygon so we use centroid coordinates\n",
    "                placeList.append(\n",
    "                    {'place_id': place['id'], 'longitude': place['centroid'][0], 'latitude': place['centroid'][1]})\n",
    "        time.sleep(900) #api rate limit 70 per 15 mins\n",
    "    return pd.DataFrame(placeList)\n",
    "                "
   ]
  },
  {
   "cell_type": "code",
   "execution_count": null,
   "id": "5cc67862",
   "metadata": {},
   "outputs": [],
   "source": [
    "getTwitterPost(lat, lon, radius, start_time, end_time)"
   ]
  }
 ],
 "metadata": {
  "kernelspec": {
   "display_name": "Python 3",
   "language": "python",
   "name": "python3"
  },
  "language_info": {
   "codemirror_mode": {
    "name": "ipython",
    "version": 3
   },
   "file_extension": ".py",
   "mimetype": "text/x-python",
   "name": "python",
   "nbconvert_exporter": "python",
   "pygments_lexer": "ipython3",
   "version": "3.8.10"
  }
 },
 "nbformat": 4,
 "nbformat_minor": 5
}
